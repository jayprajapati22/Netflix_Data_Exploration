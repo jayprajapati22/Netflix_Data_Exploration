{
 "cells": [
  {
   "cell_type": "code",
   "execution_count": 19,
   "id": "5353ac1f",
   "metadata": {},
   "outputs": [],
   "source": [
    "import pandas as pd\n",
    "from collections import Counter\n",
    "import matplotlib.pyplot as plt\n",
    "import seaborn as sns"
   ]
  },
  {
   "cell_type": "code",
   "execution_count": 3,
   "id": "132ce6b4",
   "metadata": {},
   "outputs": [
    {
     "data": {
      "text/plain": [
       "Index(['show_id', 'type', 'title', 'director', 'cast', 'country', 'date_added',\n",
       "       'release_year', 'rating', 'duration', 'listed_in', 'description'],\n",
       "      dtype='object')"
      ]
     },
     "execution_count": 3,
     "metadata": {},
     "output_type": "execute_result"
    }
   ],
   "source": [
    "# Reading the Netflix dataset from the specified file path\n",
    "de = pd.read_csv(r\"C:\\Users\\jay\\Downloads\\netflix_titles.csv\")\n",
    "\n",
    "# Displaying the column names of the dataset\n",
    "de.columns"
   ]
  },
  {
   "cell_type": "code",
   "execution_count": 4,
   "id": "1c934a3d",
   "metadata": {
    "scrolled": true
   },
   "outputs": [
    {
     "name": "stdout",
     "output_type": "stream",
     "text": [
      "<class 'pandas.core.frame.DataFrame'>\n",
      "RangeIndex: 8807 entries, 0 to 8806\n",
      "Data columns (total 12 columns):\n",
      " #   Column        Non-Null Count  Dtype \n",
      "---  ------        --------------  ----- \n",
      " 0   show_id       8807 non-null   object\n",
      " 1   type          8807 non-null   object\n",
      " 2   title         8807 non-null   object\n",
      " 3   director      6173 non-null   object\n",
      " 4   cast          7982 non-null   object\n",
      " 5   country       7976 non-null   object\n",
      " 6   date_added    8797 non-null   object\n",
      " 7   release_year  8807 non-null   int64 \n",
      " 8   rating        8803 non-null   object\n",
      " 9   duration      8804 non-null   object\n",
      " 10  listed_in     8807 non-null   object\n",
      " 11  description   8807 non-null   object\n",
      "dtypes: int64(1), object(11)\n",
      "memory usage: 825.8+ KB\n",
      "The Info of the Table is : -  None\n",
      "The Description of the Table is : -         release_year\n",
      "count   8807.000000\n",
      "mean    2014.180198\n",
      "std        8.819312\n",
      "min     1925.000000\n",
      "25%     2013.000000\n",
      "50%     2017.000000\n",
      "75%     2019.000000\n",
      "max     2021.000000\n",
      "The Columns of the Table is : -  Index(['show_id', 'type', 'title', 'director', 'cast', 'country', 'date_added',\n",
      "       'release_year', 'rating', 'duration', 'listed_in', 'description'],\n",
      "      dtype='object')\n",
      "The 0th row and 3rd value is : Kirsten Johnson\n",
      "The 1st row is : show_id                                                        s1\n",
      "type                                                        Movie\n",
      "title                                        Dick Johnson Is Dead\n",
      "director                                          Kirsten Johnson\n",
      "cast                                                          NaN\n",
      "country                                             United States\n",
      "date_added                                     September 25, 2021\n",
      "release_year                                                 2020\n",
      "rating                                                      PG-13\n",
      "duration                                                   90 min\n",
      "listed_in                                           Documentaries\n",
      "description     As her father nears the end of his life, filmm...\n",
      "Name: 0, dtype: object\n",
      "The last row is : show_id                                                     s8807\n",
      "type                                                        Movie\n",
      "title                                                      Zubaan\n",
      "director                                              Mozez Singh\n",
      "cast            Vicky Kaushal, Sarah-Jane Dias, Raaghav Chanan...\n",
      "country                                                     India\n",
      "date_added                                          March 2, 2019\n",
      "release_year                                                 2015\n",
      "rating                                                      TV-14\n",
      "duration                                                  111 min\n",
      "listed_in          Dramas, International Movies, Music & Musicals\n",
      "description     A scrappy but poor boy worms his way into a ty...\n",
      "Name: 8806, dtype: object\n",
      "The datatypes of columns are:- show_id         object\n",
      "type            object\n",
      "title           object\n",
      "director        object\n",
      "cast            object\n",
      "country         object\n",
      "date_added      object\n",
      "release_year     int64\n",
      "rating          object\n",
      "duration        object\n",
      "listed_in       object\n",
      "description     object\n",
      "dtype: object\n",
      "The data in single columns i.e show_id is:-  0          s1\n",
      "1          s2\n",
      "2          s3\n",
      "3          s4\n",
      "4          s5\n",
      "        ...  \n",
      "8802    s8803\n",
      "8803    s8804\n",
      "8804    s8805\n",
      "8805    s8806\n",
      "8806    s8807\n",
      "Name: show_id, Length: 8807, dtype: object\n"
     ]
    }
   ],
   "source": [
    "# Displaying general information about the dataset (column names, non-null counts, data types)\n",
    "print(\"The Info of the Table is : - \" , de.info())\n",
    "\n",
    "# Displaying the statistical summary of numerical columns\n",
    "print(\"The Description of the Table is : - \" , de.describe())\n",
    "\n",
    "# Displaying the column names of the dataset\n",
    "print(\"The Columns of the Table is : - \" , de.columns)\n",
    "\n",
    "# Displaying the value at the 0th row and 3rd column\n",
    "print(\"The 0th row and 3rd value is :\",de.iloc[0, 3])\n",
    "\n",
    "# Displaying the first row of the dataset\n",
    "print(\"The 1st row is :\", de.iloc[0])\n",
    "\n",
    "# Displaying the last row of the dataset\n",
    "print(\"The last row is :\", de.iloc[-1])\n",
    "\n",
    "# Displaying the data types of all columns\n",
    "print(\"The datatypes of columns are:-\" , de.dtypes)\n",
    "\n",
    "# Displaying all the values in the 'show_id' column\n",
    "print(\"The data in single columns i.e show_id is:- \", de[\"show_id\"])\n"
   ]
  },
  {
   "cell_type": "code",
   "execution_count": 72,
   "id": "51ac2b69",
   "metadata": {},
   "outputs": [
    {
     "name": "stdout",
     "output_type": "stream",
     "text": [
      "['Movie' 'TV Show']\n",
      "2\n",
      "type\n",
      "Movie      6131\n",
      "TV Show    2676\n",
      "Name: count, dtype: int64\n",
      "rating\n",
      "TV-MA       3207\n",
      "TV-14       2160\n",
      "TV-PG        863\n",
      "R            799\n",
      "PG-13        490\n",
      "TV-Y7        334\n",
      "TV-Y         307\n",
      "PG           287\n",
      "TV-G         220\n",
      "NR            80\n",
      "G             41\n",
      "TV-Y7-FV       6\n",
      "NC-17          3\n",
      "UR             3\n",
      "74 min         1\n",
      "84 min         1\n",
      "66 min         1\n",
      "Name: count, dtype: int64\n"
     ]
    }
   ],
   "source": [
    "#trying to get unique values \n",
    "print(de['type'].unique())\n",
    "\n",
    "#number of unique\n",
    "print(de['type'].nunique())\n",
    "\n",
    "#counting how many movies and tv shows \n",
    "print(de['type'].value_counts())\n",
    "print(de['rating'].value_counts())"
   ]
  },
  {
   "cell_type": "code",
   "execution_count": 77,
   "id": "4084b015",
   "metadata": {},
   "outputs": [
    {
     "name": "stdout",
     "output_type": "stream",
     "text": [
      "0       False\n",
      "1        True\n",
      "2       False\n",
      "3        True\n",
      "4        True\n",
      "        ...  \n",
      "8802    False\n",
      "8803     True\n",
      "8804    False\n",
      "8805    False\n",
      "8806    False\n",
      "Name: director, Length: 8807, dtype: bool\n",
      "-----\n",
      "show_id            0\n",
      "type               0\n",
      "title              0\n",
      "director        2634\n",
      "cast             825\n",
      "country          831\n",
      "date_added        10\n",
      "release_year       0\n",
      "rating             4\n",
      "duration           3\n",
      "listed_in          0\n",
      "description        0\n",
      "dtype: int64\n"
     ]
    }
   ],
   "source": [
    "#handling missing/null data \n",
    "print(de['director'].isnull())\n",
    "print(\"-----\")\n",
    "#count total missing values per column\n",
    "print(de.isnull().sum())"
   ]
  },
  {
   "cell_type": "code",
   "execution_count": 85,
   "id": "d2a9e6cc",
   "metadata": {
    "scrolled": true
   },
   "outputs": [
    {
     "name": "stdout",
     "output_type": "stream",
     "text": [
      "     show_id     type                                title director  \\\n",
      "1         s2  TV Show                        Blood & Water      NaN   \n",
      "3         s4  TV Show                Jailbirds New Orleans      NaN   \n",
      "4         s5  TV Show                         Kota Factory      NaN   \n",
      "10       s11  TV Show  Vendetta: Truth, Lies and The Mafia      NaN   \n",
      "14       s15  TV Show      Crime Stories: India Detectives      NaN   \n",
      "...      ...      ...                                  ...      ...   \n",
      "8795   s8796  TV Show                      Yu-Gi-Oh! Arc-V      NaN   \n",
      "8796   s8797  TV Show                           Yunus Emre      NaN   \n",
      "8797   s8798  TV Show                            Zak Storm      NaN   \n",
      "8800   s8801  TV Show                   Zindagi Gulzar Hai      NaN   \n",
      "8803   s8804  TV Show                          Zombie Dumb      NaN   \n",
      "\n",
      "                                                   cast  \\\n",
      "1     Ama Qamata, Khosi Ngema, Gail Mabalane, Thaban...   \n",
      "3                                                   NaN   \n",
      "4     Mayur More, Jitendra Kumar, Ranjan Raj, Alam K...   \n",
      "10                                                  NaN   \n",
      "14                                                  NaN   \n",
      "...                                                 ...   \n",
      "8795  Mike Liscio, Emily Bauer, Billy Bob Thompson, ...   \n",
      "8796  Gökhan Atalay, Payidar Tüfekçioglu, Baran Akbu...   \n",
      "8797  Michael Johnston, Jessica Gee-George, Christin...   \n",
      "8800  Sanam Saeed, Fawad Khan, Ayesha Omer, Mehreen ...   \n",
      "8803                                                NaN   \n",
      "\n",
      "                                            country          date_added  \\\n",
      "1                                      South Africa  September 24, 2021   \n",
      "3                                               NaN  September 24, 2021   \n",
      "4                                             India  September 24, 2021   \n",
      "10                                              NaN  September 24, 2021   \n",
      "14                                              NaN  September 22, 2021   \n",
      "...                                             ...                 ...   \n",
      "8795                                  Japan, Canada         May 1, 2018   \n",
      "8796                                         Turkey    January 17, 2017   \n",
      "8797  United States, France, South Korea, Indonesia  September 13, 2018   \n",
      "8800                                       Pakistan   December 15, 2016   \n",
      "8803                                            NaN        July 1, 2019   \n",
      "\n",
      "      release_year rating   duration  \\\n",
      "1             2021  TV-MA  2 Seasons   \n",
      "3             2021  TV-MA   1 Season   \n",
      "4             2021  TV-MA  2 Seasons   \n",
      "10            2021  TV-MA   1 Season   \n",
      "14            2021  TV-MA   1 Season   \n",
      "...            ...    ...        ...   \n",
      "8795          2015  TV-Y7  2 Seasons   \n",
      "8796          2016  TV-PG  2 Seasons   \n",
      "8797          2016  TV-Y7  3 Seasons   \n",
      "8800          2012  TV-PG   1 Season   \n",
      "8803          2018  TV-Y7  2 Seasons   \n",
      "\n",
      "                                              listed_in  \\\n",
      "1       International TV Shows, TV Dramas, TV Mysteries   \n",
      "3                                Docuseries, Reality TV   \n",
      "4     International TV Shows, Romantic TV Shows, TV ...   \n",
      "10    Crime TV Shows, Docuseries, International TV S...   \n",
      "14         British TV Shows, Crime TV Shows, Docuseries   \n",
      "...                                                 ...   \n",
      "8795                             Anime Series, Kids' TV   \n",
      "8796                  International TV Shows, TV Dramas   \n",
      "8797                                           Kids' TV   \n",
      "8800  International TV Shows, Romantic TV Shows, TV ...   \n",
      "8803             Kids' TV, Korean TV Shows, TV Comedies   \n",
      "\n",
      "                                            description  \n",
      "1     After crossing paths at a party, a Cape Town t...  \n",
      "3     Feuds, flirtations and toilet talk go down amo...  \n",
      "4     In a city of coaching centers known to train I...  \n",
      "10    Sicily boasts a bold \"Anti-Mafia\" coalition. B...  \n",
      "14    Cameras following Bengaluru police on the job ...  \n",
      "...                                                 ...  \n",
      "8795  Now that he's discovered the Pendulum Summonin...  \n",
      "8796  During the Mongol invasions, Yunus Emre leaves...  \n",
      "8797  Teen surfer Zak Storm is mysteriously transpor...  \n",
      "8800  Strong-willed, middle-class Kashaf and carefre...  \n",
      "8803  While living alone in a spooky town, a young g...  \n",
      "\n",
      "[2634 rows x 12 columns]\n"
     ]
    }
   ],
   "source": [
    "# Get rows where 'director' is missing\n",
    "missing_directors = de[de['director'].isnull()]\n",
    "print(missing_directors)\n",
    "\n",
    "# Get rows where 'director' is not missing\n",
    "non_missing = de[de['director'].notnull()]"
   ]
  },
  {
   "cell_type": "code",
   "execution_count": 89,
   "id": "f7f53075",
   "metadata": {},
   "outputs": [
    {
     "name": "stdout",
     "output_type": "stream",
     "text": [
      "                   title  new_title\n",
      "0   Dick Johnson Is Dead         20\n",
      "1          Blood & Water         13\n",
      "2              Ganglands          9\n",
      "3  Jailbirds New Orleans         21\n",
      "4           Kota Factory         12\n"
     ]
    }
   ],
   "source": [
    "# Creating a new column 'new_title' that stores the length of each title in the 'title' column\n",
    "de['new_title'] = de['title'].apply(len)\n",
    "\n",
    "# Displaying the first 5 rows of the 'title' column along with the newly created 'new_title' column\n",
    "print(de[['title','new_title']].head())"
   ]
  },
  {
   "cell_type": "code",
   "execution_count": 94,
   "id": "13586bbb",
   "metadata": {},
   "outputs": [
    {
     "name": "stdout",
     "output_type": "stream",
     "text": [
      "      type short\n",
      "0    Movie     M\n",
      "1  TV Show    TV\n",
      "2  TV Show    TV\n",
      "3  TV Show    TV\n",
      "4  TV Show    TV\n"
     ]
    }
   ],
   "source": [
    "# Simplify 'type' column (replace \"Movie\" with \"M\" and \"TV Show\" with \"TV\")\n",
    "de['short'] = de['type'].map({'Movie' : 'M', 'TV Show': 'TV'})\n",
    "print(de[['type' , 'short']].head())"
   ]
  },
  {
   "cell_type": "code",
   "execution_count": 96,
   "id": "91f6e1d4",
   "metadata": {},
   "outputs": [
    {
     "name": "stdout",
     "output_type": "stream",
     "text": [
      "748\n"
     ]
    }
   ],
   "source": [
    "#Find unique values in the country column and count how many unique countries are listed.\n",
    "print(de['country'].nunique())"
   ]
  },
  {
   "cell_type": "code",
   "execution_count": 100,
   "id": "c37441c1",
   "metadata": {},
   "outputs": [
    {
     "name": "stdout",
     "output_type": "stream",
     "text": [
      "type\n",
      "Movie      6131\n",
      "TV Show    2676\n",
      "Name: count, dtype: int64\n"
     ]
    }
   ],
   "source": [
    "# Counting the occurrences of each unique value in the 'type' column\n",
    "print(de['type'].value_counts())"
   ]
  },
  {
   "cell_type": "code",
   "execution_count": 104,
   "id": "a1e69a0b",
   "metadata": {},
   "outputs": [
    {
     "name": "stdout",
     "output_type": "stream",
     "text": [
      "  sorted_list     type\n",
      "0           M    Movie\n",
      "1         NaN  TV Show\n",
      "2         NaN  TV Show\n",
      "3         NaN  TV Show\n",
      "4         NaN  TV Show\n"
     ]
    }
   ],
   "source": [
    "#Creating a new column 'sorted_list' where 'Movie' is mapped to 'M' using the .map() function  \n",
    "de['sorted_list'] = de['type'].map({'Movie' : 'M'})\n",
    "\n",
    "# If a value in 'type' does not match the mapping, it will be set as NaN (missing value)\n",
    "print(de[['sorted_list' , 'type']].head())"
   ]
  },
  {
   "cell_type": "code",
   "execution_count": 105,
   "id": "2717a189",
   "metadata": {},
   "outputs": [
    {
     "name": "stdout",
     "output_type": "stream",
     "text": [
      "4\n"
     ]
    }
   ],
   "source": [
    "# Counting the number of missing (null) values in the 'rating' column  \n",
    "print(de['rating'].isnull().sum())"
   ]
  },
  {
   "cell_type": "code",
   "execution_count": 113,
   "id": "caec8d92",
   "metadata": {},
   "outputs": [
    {
     "name": "stdout",
     "output_type": "stream",
     "text": [
      "   now                                        description\n",
      "0   27  As her father nears the end of his life, filmm...\n",
      "1   27  After crossing paths at a party, a Cape Town t...\n",
      "2   27  To protect his family from a powerful drug lor...\n",
      "3   24  Feuds, flirtations and toilet talk go down amo...\n",
      "4   24  In a city of coaching centers known to train I...\n"
     ]
    }
   ],
   "source": [
    "# Creating a new column 'now' that stores the word count of each description\n",
    "de['now'] = de['description'].apply(lambda y: len(y.split()))\n",
    "\n",
    "# Displaying the first 5 rows of 'now' and 'description' columns\n",
    "print(de[['now' , 'description']].head())"
   ]
  },
  {
   "cell_type": "code",
   "execution_count": 117,
   "id": "f0344da7",
   "metadata": {},
   "outputs": [
    {
     "name": "stdout",
     "output_type": "stream",
     "text": [
      "Empty DataFrame\n",
      "Columns: [show_id, type, title, director, cast, country, date_added, release_year, rating, duration, listed_in, description, new_title, short, sorted_list, now]\n",
      "Index: []\n"
     ]
    }
   ],
   "source": [
    "# Filtering the dataset to include only shows released after 2023\n",
    "filter_show = de[de['release_year'] > 2023]\n",
    "print(filter_show.head())"
   ]
  },
  {
   "cell_type": "code",
   "execution_count": 120,
   "id": "a40189e3",
   "metadata": {},
   "outputs": [
    {
     "name": "stdout",
     "output_type": "stream",
     "text": [
      "[748]\n"
     ]
    }
   ],
   "source": [
    "# Counting the number of unique countries in the 'country' column\n",
    "unique = [de['country'].nunique()]\n",
    "print(unique)"
   ]
  },
  {
   "cell_type": "code",
   "execution_count": 122,
   "id": "5579e1d3",
   "metadata": {
    "scrolled": true
   },
   "outputs": [
    {
     "name": "stdout",
     "output_type": "stream",
     "text": [
      "     show_id   type                             title  \\\n",
      "0         s1  Movie              Dick Johnson Is Dead   \n",
      "6         s7  Movie  My Little Pony: A New Generation   \n",
      "9        s10  Movie                      The Starling   \n",
      "12       s13  Movie                      Je Suis Karl   \n",
      "13       s14  Movie  Confessions of an Invisible Girl   \n",
      "...      ...    ...                               ...   \n",
      "8781   s8782  Movie           Yo-Kai Watch: The Movie   \n",
      "8782   s8783  Movie                       Yoga Hosers   \n",
      "8786   s8787  Movie                      You Can Tutu   \n",
      "8787   s8788  Movie         You Can’t Fight Christmas   \n",
      "8794   s8795  Movie                            اشتباك   \n",
      "\n",
      "                           director  \\\n",
      "0                   Kirsten Johnson   \n",
      "6     Robert Cullen, José Luis Ucha   \n",
      "9                    Theodore Melfi   \n",
      "12              Christian Schwochow   \n",
      "13                    Bruno Garotti   \n",
      "...                             ...   \n",
      "8781                    Mark Risley   \n",
      "8782                    Kevin Smith   \n",
      "8786                    James Brown   \n",
      "8787                    Kenny Young   \n",
      "8794                   Mohamed Diab   \n",
      "\n",
      "                                                   cast  \\\n",
      "0                                                   NaN   \n",
      "6     Vanessa Hudgens, Kimiko Glenn, James Marsden, ...   \n",
      "9     Melissa McCarthy, Chris O'Dowd, Kevin Kline, T...   \n",
      "12    Luna Wedler, Jannis Niewöhner, Milan Peschel, ...   \n",
      "13    Klara Castanho, Lucca Picon, Júlia Gomes, Marc...   \n",
      "...                                                 ...   \n",
      "8781  Johnny Yong Bosch, Joey D'Auria, Alicyn Packar...   \n",
      "8782  Harley Quinn Smith, Lily-Rose Depp, Johnny Dep...   \n",
      "8786  Lily O'Regan, Jeannettsy Enriquez Borges, Joel...   \n",
      "8787  Brely Evans, Andra Fuller, Persia White, Porsc...   \n",
      "8794  Nelly Karim, Hany Adel, Tarek Abdel Aziz, Ahme...   \n",
      "\n",
      "                      country          date_added  release_year rating  \\\n",
      "0               United States  September 25, 2021          2020  PG-13   \n",
      "6                         NaN  September 24, 2021          2021     PG   \n",
      "9               United States  September 24, 2021          2021  PG-13   \n",
      "12    Germany, Czech Republic  September 23, 2021          2021  TV-MA   \n",
      "13                        NaN  September 22, 2021          2021  TV-PG   \n",
      "...                       ...                 ...           ...    ...   \n",
      "8781     Japan, United States    December 1, 2016          2016  TV-Y7   \n",
      "8782            United States    December 2, 2016          2016  PG-13   \n",
      "8786           United Kingdom   December 31, 2017          2017   TV-G   \n",
      "8787            United States   December 19, 2017          2017  TV-PG   \n",
      "8794            Egypt, France    October 11, 2018          2016  TV-14   \n",
      "\n",
      "     duration                                         listed_in  \\\n",
      "0      90 min                                     Documentaries   \n",
      "6      91 min                          Children & Family Movies   \n",
      "9     104 min                                  Comedies, Dramas   \n",
      "12    127 min                      Dramas, International Movies   \n",
      "13     91 min                Children & Family Movies, Comedies   \n",
      "...       ...                                               ...   \n",
      "8781   96 min          Anime Features, Children & Family Movies   \n",
      "8782   88 min       Comedies, Horror Movies, Independent Movies   \n",
      "8786   87 min                          Children & Family Movies   \n",
      "8787   85 min                         Comedies, Romantic Movies   \n",
      "8794   98 min  Dramas, Independent Movies, International Movies   \n",
      "\n",
      "                                            description  new_title short  \\\n",
      "0     As her father nears the end of his life, filmm...         20     M   \n",
      "6     Equestria's divided. But a bright-eyed hero be...         32     M   \n",
      "9     A woman adjusting to life after a loss contend...         12     M   \n",
      "12    After most of her family is murdered in a terr...         12     M   \n",
      "13    When the clever but socially-awkward Tetê join...         32     M   \n",
      "...                                                 ...        ...   ...   \n",
      "8781  Nate's special Yo-Kai Watch is missing. He tra...         23     M   \n",
      "8782  With an all-important high school party at sta...         11     M   \n",
      "8786  A gifted young ballet dancer struggles to find...         12     M   \n",
      "8787  After stepping in to revitalize his family's h...         25     M   \n",
      "8794  Amid the tumult following Egyptian President M...          6     M   \n",
      "\n",
      "     sorted_list  now  \n",
      "0              M   27  \n",
      "6              M   25  \n",
      "9              M   29  \n",
      "12             M   25  \n",
      "13             M   26  \n",
      "...          ...  ...  \n",
      "8781           M   23  \n",
      "8782           M   26  \n",
      "8786           M   25  \n",
      "8787           M   18  \n",
      "8794           M   19  \n",
      "\n",
      "[3619 rows x 16 columns]\n"
     ]
    }
   ],
   "source": [
    "# Filtering the dataset for movies released after 2015\n",
    "recent = de[(de['release_year'] > 2015) &  (de['type'] == 'Movie')]\n",
    "print(recent)"
   ]
  },
  {
   "cell_type": "code",
   "execution_count": 131,
   "id": "ac377900",
   "metadata": {},
   "outputs": [
    {
     "name": "stdout",
     "output_type": "stream",
     "text": [
      "0    27\n",
      "1    27\n",
      "2    27\n",
      "Name: description_word_count, dtype: int64\n"
     ]
    }
   ],
   "source": [
    "# Creating a new column 'description_word_count' to store the word count of each description\n",
    "df['description_word_count'] = de['description'].apply(lambda x: len(x.split()))\n",
    "print(df['description_word_count'].head())"
   ]
  },
  {
   "cell_type": "code",
   "execution_count": 134,
   "id": "8938e12b",
   "metadata": {},
   "outputs": [],
   "source": [
    "# Filtering the dataset for TV Shows released after 2018\n",
    "recent = de[(de['release_year'] > 2018) & (de['type'] == 'TV Shows')]\n",
    "\n",
    "# Saving the filtered dataset to a CSV file named 'recent.csv' without the index column\n",
    "recent.to_csv('recent.csv', index = False)"
   ]
  },
  {
   "cell_type": "code",
   "execution_count": 136,
   "id": "b7db5f34",
   "metadata": {
    "scrolled": true
   },
   "outputs": [
    {
     "name": "stdout",
     "output_type": "stream",
     "text": [
      "     show_id     type                               title  \\\n",
      "4250   s4251  TV Show   Pioneers: First Women Filmmakers*   \n",
      "7790   s7791    Movie                      Prelude to War   \n",
      "8205   s8206    Movie                The Battle of Midway   \n",
      "8739   s8740    Movie  Why We Fight: The Battle of Russia   \n",
      "8763   s8764    Movie     WWII: Report from the Aleutians   \n",
      "...      ...      ...                                 ...   \n",
      "3         s4  TV Show               Jailbirds New Orleans   \n",
      "2         s3  TV Show                           Ganglands   \n",
      "18       s19    Movie                           Intrusion   \n",
      "1         s2  TV Show                       Blood & Water   \n",
      "68       s69    Movie                          Schumacher   \n",
      "\n",
      "                                               director  \\\n",
      "4250                                                NaN   \n",
      "7790                                        Frank Capra   \n",
      "8205                                          John Ford   \n",
      "8739                        Frank Capra, Anatole Litvak   \n",
      "8763                                        John Huston   \n",
      "...                                                 ...   \n",
      "3                                                   NaN   \n",
      "2                                       Julien Leclercq   \n",
      "18                                           Adam Salky   \n",
      "1                                                   NaN   \n",
      "68    Hanns-Bruno Kammertöns, Vanessa Nöcker, Michae...   \n",
      "\n",
      "                                                   cast        country  \\\n",
      "4250                                                NaN            NaN   \n",
      "7790                                                NaN  United States   \n",
      "8205                          Henry Fonda, Jane Darwell  United States   \n",
      "8739                                                NaN  United States   \n",
      "8763                                                NaN  United States   \n",
      "...                                                 ...            ...   \n",
      "3                                                   NaN            NaN   \n",
      "2     Sami Bouajila, Tracy Gotoas, Samuel Jouy, Nabi...            NaN   \n",
      "18    Freida Pinto, Logan Marshall-Green, Robert Joh...            NaN   \n",
      "1     Ama Qamata, Khosi Ngema, Gail Mabalane, Thaban...   South Africa   \n",
      "68                                   Michael Schumacher            NaN   \n",
      "\n",
      "              date_added  release_year rating   duration  \\\n",
      "4250   December 30, 2018          1925  TV-14   1 Season   \n",
      "7790      March 31, 2017          1942  TV-14     52 min   \n",
      "8205      March 31, 2017          1942  TV-14     18 min   \n",
      "8739      March 31, 2017          1943  TV-PG     82 min   \n",
      "8763      March 31, 2017          1943  TV-PG     45 min   \n",
      "...                  ...           ...    ...        ...   \n",
      "3     September 24, 2021          2021  TV-MA   1 Season   \n",
      "2     September 24, 2021          2021  TV-MA   1 Season   \n",
      "18    September 22, 2021          2021  TV-14     94 min   \n",
      "1     September 24, 2021          2021  TV-MA  2 Seasons   \n",
      "68    September 15, 2021          2021  TV-14    113 min   \n",
      "\n",
      "                                              listed_in  \\\n",
      "4250                                           TV Shows   \n",
      "7790                      Classic Movies, Documentaries   \n",
      "8205                      Classic Movies, Documentaries   \n",
      "8739                                      Documentaries   \n",
      "8763                                      Documentaries   \n",
      "...                                                 ...   \n",
      "3                                Docuseries, Reality TV   \n",
      "2     Crime TV Shows, International TV Shows, TV Act...   \n",
      "18                                            Thrillers   \n",
      "1       International TV Shows, TV Dramas, TV Mysteries   \n",
      "68    Documentaries, International Movies, Sports Mo...   \n",
      "\n",
      "                                            description  new_title short  \\\n",
      "4250  This collection restores films from women who ...         33    TV   \n",
      "7790  Frank Capra's documentary chronicles the rise ...         14     M   \n",
      "8205  Director John Ford captures combat footage of ...         20     M   \n",
      "8739  This installment of Frank Capra's acclaimed do...         34     M   \n",
      "8763  Filmmaker John Huston narrates this Oscar-nomi...         31     M   \n",
      "...                                                 ...        ...   ...   \n",
      "3     Feuds, flirtations and toilet talk go down amo...         21    TV   \n",
      "2     To protect his family from a powerful drug lor...          9    TV   \n",
      "18    After a deadly home invasion at a couple’s new...          9     M   \n",
      "1     After crossing paths at a party, a Cape Town t...         13    TV   \n",
      "68    Through exclusive interviews and archival foot...         10     M   \n",
      "\n",
      "     sorted_list  now  title_length  \n",
      "4250         NaN   24            33  \n",
      "7790           M   21            14  \n",
      "8205           M   27            20  \n",
      "8739           M   19            34  \n",
      "8763           M   20            31  \n",
      "...          ...  ...           ...  \n",
      "3            NaN   24            21  \n",
      "2            NaN   27             9  \n",
      "18             M   26             9  \n",
      "1            NaN   27            13  \n",
      "68             M   19            10  \n",
      "\n",
      "[8807 rows x 17 columns]\n"
     ]
    }
   ],
   "source": [
    "sorted_values = de.sort_values(by = 'release_year')\n",
    "print(sorted_values)"
   ]
  },
  {
   "cell_type": "code",
   "execution_count": 138,
   "id": "613d4b51",
   "metadata": {
    "scrolled": true
   },
   "outputs": [
    {
     "name": "stdout",
     "output_type": "stream",
     "text": [
      "     show_id     type                                      title  \\\n",
      "365     s366    Movie                            Eyes of a Thief   \n",
      "193     s194  TV Show                                       D.P.   \n",
      "275     s276  TV Show                                The Kingdom   \n",
      "838     s839    Movie                      Soy Rada: Serendipity   \n",
      "434     s435  TV Show                                     Okupas   \n",
      "...      ...      ...                                        ...   \n",
      "2484   s2485    Movie                         Lock Your Girls In   \n",
      "670     s671    Movie  Mobile Suit Gundam II: Soldiers of Sorrow   \n",
      "689     s690    Movie                       Mobile Suit Gundam I   \n",
      "7133   s7134    Movie               Jis Desh Men Ganga Behti Hai   \n",
      "4250   s4251  TV Show          Pioneers: First Women Filmmakers*   \n",
      "\n",
      "                                  director  \\\n",
      "365                           Najwa Najjar   \n",
      "193                                    NaN   \n",
      "275                                    NaN   \n",
      "838                             Pablo Faro   \n",
      "434                                    NaN   \n",
      "...                                    ...   \n",
      "2484                     Fouad El-Mohandes   \n",
      "670   Yoshiyuki Tomino, Yoshikazu Yasuhiko   \n",
      "689   Yoshiyuki Tomino, Yoshikazu Yasuhiko   \n",
      "7133                        Radhu Karmakar   \n",
      "4250                                   NaN   \n",
      "\n",
      "                                                   cast            country  \\\n",
      "365   Khaled Abol El Naga, Souad Massi, Suhail Hadda...  , France, Algeria   \n",
      "193   Jung Hae-in, Koo Kyo-hwan, Kim Sung-kyun, Son ...      , South Korea   \n",
      "275   Chino Darín, Nancy Dupláa, Joaquín Furriel, Pe...          Argentina   \n",
      "838                                   Agustín Aristarán          Argentina   \n",
      "434   Rodrigo de la Serna, Diego Alonso, Ariel Stalt...          Argentina   \n",
      "...                                                 ...                ...   \n",
      "2484  Fouad El-Mohandes, Sanaa Younes, Sherihan, Ahm...                NaN   \n",
      "670   Toru Furuya, Shuichi Ikeda, Hirotaka Suzuoki, ...                NaN   \n",
      "689   Toru Furuya, Shuichi Ikeda, Hirotaka Suzuoki, ...                NaN   \n",
      "7133  Raj Kapoor, Padmini, Pran, Chanchal, Lalita Pa...                NaN   \n",
      "4250                                                NaN                NaN   \n",
      "\n",
      "             date_added  release_year rating  duration  \\\n",
      "365       July 30, 2021          2014  TV-14   103 min   \n",
      "193     August 27, 2021          2021  TV-MA  1 Season   \n",
      "275     August 13, 2021          2021  TV-MA  1 Season   \n",
      "838        May 27, 2021          2021  TV-MA    70 min   \n",
      "434       July 20, 2021          2020  TV-MA  1 Season   \n",
      "...                 ...           ...    ...       ...   \n",
      "2484       May 21, 2020          1982  TV-PG   233 min   \n",
      "670       June 19, 2021          1981  TV-14   133 min   \n",
      "689       June 18, 2021          1981  TV-14   139 min   \n",
      "7133  December 31, 2019          1960  TV-14   181 min   \n",
      "4250  December 30, 2018          1925  TV-14  1 Season   \n",
      "\n",
      "                                              listed_in  \\\n",
      "365    Dramas, Independent Movies, International Movies   \n",
      "193                   International TV Shows, TV Dramas   \n",
      "275   Crime TV Shows, International TV Shows, Spanis...   \n",
      "838                                     Stand-Up Comedy   \n",
      "434   Classic & Cult TV, Crime TV Shows, Internation...   \n",
      "...                                                 ...   \n",
      "2484    Comedies, International Movies, Romantic Movies   \n",
      "670   Action & Adventure, Anime Features, Internatio...   \n",
      "689   Action & Adventure, Anime Features, Classic Mo...   \n",
      "7133   Action & Adventure, Dramas, International Movies   \n",
      "4250                                           TV Shows   \n",
      "\n",
      "                                            description  new_title short  \\\n",
      "365   After a decade in prison, a Palestinian man wi...         15     M   \n",
      "193   A young private’s assignment to capture army d...          4    TV   \n",
      "275   After his running mate's murder, a controversi...         11    TV   \n",
      "838   The delightful Argentine comic Agustín Aristar...         21     M   \n",
      "434   In 2000, a group of young men takes over a hou...          6    TV   \n",
      "...                                                 ...        ...   ...   \n",
      "2484  A widower believes he must marry off his three...         18     M   \n",
      "670   The Earth Federation warship White Base and it...         41     M   \n",
      "689   The Earth Federation's last hope in its fight ...         20     M   \n",
      "7133  Falling in with a band of outlaws during a hol...         28     M   \n",
      "4250  This collection restores films from women who ...         33    TV   \n",
      "\n",
      "     sorted_list  now  title_length  \n",
      "365            M   26            15  \n",
      "193          NaN   22             4  \n",
      "275          NaN   22            11  \n",
      "838            M   23            21  \n",
      "434          NaN   25             6  \n",
      "...          ...  ...           ...  \n",
      "2484           M   23            18  \n",
      "670            M   24            41  \n",
      "689            M   24            20  \n",
      "7133           M   27            28  \n",
      "4250         NaN   24            33  \n",
      "\n",
      "[8807 rows x 17 columns]\n"
     ]
    }
   ],
   "source": [
    "# Sorting first by 'country' (A-Z) and then by 'release_year' (newest to oldest)\n",
    "sorted_value = de.sort_values(by = ['country', 'release_year'], ascending=[True, False])\n",
    "print(sorted_value)"
   ]
  },
  {
   "cell_type": "code",
   "execution_count": 139,
   "id": "273cc48d",
   "metadata": {},
   "outputs": [
    {
     "name": "stdout",
     "output_type": "stream",
     "text": [
      "<bound method GroupBy.size of <pandas.core.groupby.generic.DataFrameGroupBy object at 0x000002C04880F1D0>>\n"
     ]
    }
   ],
   "source": [
    "# Counting the number of occurrences for each unique value in the 'type' column using groupby\n",
    "type_counts = de.groupby('type').size\n",
    "print(type_counts)"
   ]
  },
  {
   "cell_type": "code",
   "execution_count": 11,
   "id": "f8dc7e5f",
   "metadata": {},
   "outputs": [
    {
     "name": "stdout",
     "output_type": "stream",
     "text": [
      "type\n",
      "Movie      2013.121514\n",
      "TV Show    2016.605755\n",
      "Name: release_year, dtype: float64\n"
     ]
    }
   ],
   "source": [
    "# Calculating the mean release year for each content type (Movies & TV Shows)\n",
    "mean_year = de.groupby('type')['release_year'].mean()\n",
    "print(mean_year)"
   ]
  },
  {
   "cell_type": "code",
   "execution_count": 15,
   "id": "3ae62e20",
   "metadata": {},
   "outputs": [
    {
     "data": {
      "text/html": [
       "<div>\n",
       "<style scoped>\n",
       "    .dataframe tbody tr th:only-of-type {\n",
       "        vertical-align: middle;\n",
       "    }\n",
       "\n",
       "    .dataframe tbody tr th {\n",
       "        vertical-align: top;\n",
       "    }\n",
       "\n",
       "    .dataframe thead th {\n",
       "        text-align: right;\n",
       "    }\n",
       "</style>\n",
       "<table border=\"1\" class=\"dataframe\">\n",
       "  <thead>\n",
       "    <tr style=\"text-align: right;\">\n",
       "      <th></th>\n",
       "      <th>show_id</th>\n",
       "      <th>type</th>\n",
       "      <th>title</th>\n",
       "      <th>director</th>\n",
       "      <th>cast</th>\n",
       "      <th>country</th>\n",
       "      <th>date_added</th>\n",
       "      <th>release_year</th>\n",
       "      <th>rating</th>\n",
       "      <th>duration</th>\n",
       "      <th>listed_in</th>\n",
       "      <th>description</th>\n",
       "    </tr>\n",
       "  </thead>\n",
       "  <tbody>\n",
       "    <tr>\n",
       "      <th>4250</th>\n",
       "      <td>s4251</td>\n",
       "      <td>TV Show</td>\n",
       "      <td>Pioneers: First Women Filmmakers*</td>\n",
       "      <td>NaN</td>\n",
       "      <td>NaN</td>\n",
       "      <td>NaN</td>\n",
       "      <td>December 30, 2018</td>\n",
       "      <td>1925</td>\n",
       "      <td>TV-14</td>\n",
       "      <td>1 Season</td>\n",
       "      <td>TV Shows</td>\n",
       "      <td>This collection restores films from women who ...</td>\n",
       "    </tr>\n",
       "    <tr>\n",
       "      <th>8205</th>\n",
       "      <td>s8206</td>\n",
       "      <td>Movie</td>\n",
       "      <td>The Battle of Midway</td>\n",
       "      <td>John Ford</td>\n",
       "      <td>Henry Fonda, Jane Darwell</td>\n",
       "      <td>United States</td>\n",
       "      <td>March 31, 2017</td>\n",
       "      <td>1942</td>\n",
       "      <td>TV-14</td>\n",
       "      <td>18 min</td>\n",
       "      <td>Classic Movies, Documentaries</td>\n",
       "      <td>Director John Ford captures combat footage of ...</td>\n",
       "    </tr>\n",
       "    <tr>\n",
       "      <th>7790</th>\n",
       "      <td>s7791</td>\n",
       "      <td>Movie</td>\n",
       "      <td>Prelude to War</td>\n",
       "      <td>Frank Capra</td>\n",
       "      <td>NaN</td>\n",
       "      <td>United States</td>\n",
       "      <td>March 31, 2017</td>\n",
       "      <td>1942</td>\n",
       "      <td>TV-14</td>\n",
       "      <td>52 min</td>\n",
       "      <td>Classic Movies, Documentaries</td>\n",
       "      <td>Frank Capra's documentary chronicles the rise ...</td>\n",
       "    </tr>\n",
       "    <tr>\n",
       "      <th>8763</th>\n",
       "      <td>s8764</td>\n",
       "      <td>Movie</td>\n",
       "      <td>WWII: Report from the Aleutians</td>\n",
       "      <td>John Huston</td>\n",
       "      <td>NaN</td>\n",
       "      <td>United States</td>\n",
       "      <td>March 31, 2017</td>\n",
       "      <td>1943</td>\n",
       "      <td>TV-PG</td>\n",
       "      <td>45 min</td>\n",
       "      <td>Documentaries</td>\n",
       "      <td>Filmmaker John Huston narrates this Oscar-nomi...</td>\n",
       "    </tr>\n",
       "    <tr>\n",
       "      <th>8660</th>\n",
       "      <td>s8661</td>\n",
       "      <td>Movie</td>\n",
       "      <td>Undercover: How to Operate Behind Enemy Lines</td>\n",
       "      <td>John Ford</td>\n",
       "      <td>NaN</td>\n",
       "      <td>United States</td>\n",
       "      <td>March 31, 2017</td>\n",
       "      <td>1943</td>\n",
       "      <td>TV-PG</td>\n",
       "      <td>61 min</td>\n",
       "      <td>Classic Movies, Documentaries</td>\n",
       "      <td>This World War II-era training film dramatizes...</td>\n",
       "    </tr>\n",
       "  </tbody>\n",
       "</table>\n",
       "</div>"
      ],
      "text/plain": [
       "     show_id     type                                          title  \\\n",
       "4250   s4251  TV Show              Pioneers: First Women Filmmakers*   \n",
       "8205   s8206    Movie                           The Battle of Midway   \n",
       "7790   s7791    Movie                                 Prelude to War   \n",
       "8763   s8764    Movie                WWII: Report from the Aleutians   \n",
       "8660   s8661    Movie  Undercover: How to Operate Behind Enemy Lines   \n",
       "\n",
       "         director                       cast        country  \\\n",
       "4250          NaN                        NaN            NaN   \n",
       "8205    John Ford  Henry Fonda, Jane Darwell  United States   \n",
       "7790  Frank Capra                        NaN  United States   \n",
       "8763  John Huston                        NaN  United States   \n",
       "8660    John Ford                        NaN  United States   \n",
       "\n",
       "             date_added  release_year rating  duration  \\\n",
       "4250  December 30, 2018          1925  TV-14  1 Season   \n",
       "8205     March 31, 2017          1942  TV-14    18 min   \n",
       "7790     March 31, 2017          1942  TV-14    52 min   \n",
       "8763     March 31, 2017          1943  TV-PG    45 min   \n",
       "8660     March 31, 2017          1943  TV-PG    61 min   \n",
       "\n",
       "                          listed_in  \\\n",
       "4250                       TV Shows   \n",
       "8205  Classic Movies, Documentaries   \n",
       "7790  Classic Movies, Documentaries   \n",
       "8763                  Documentaries   \n",
       "8660  Classic Movies, Documentaries   \n",
       "\n",
       "                                            description  \n",
       "4250  This collection restores films from women who ...  \n",
       "8205  Director John Ford captures combat footage of ...  \n",
       "7790  Frank Capra's documentary chronicles the rise ...  \n",
       "8763  Filmmaker John Huston narrates this Oscar-nomi...  \n",
       "8660  This World War II-era training film dramatizes...  "
      ]
     },
     "execution_count": 15,
     "metadata": {},
     "output_type": "execute_result"
    }
   ],
   "source": [
    "de.sort_values(by=[\"release_year\", \"director\"], ascending=[True, False] ).head()"
   ]
  },
  {
   "cell_type": "code",
   "execution_count": 18,
   "id": "c0c9d809",
   "metadata": {},
   "outputs": [
    {
     "data": {
      "text/plain": [
       "release_year\n",
       "1925    1925.0\n",
       "1942    1942.0\n",
       "1943    1943.0\n",
       "1944    1944.0\n",
       "1945    1945.0\n",
       "Name: release_year, dtype: float64"
      ]
     },
     "execution_count": 18,
     "metadata": {},
     "output_type": "execute_result"
    }
   ],
   "source": [
    "# Counting the number of titles released per year\n",
    "de.groupby('release_year')['release_year'].mean().head()"
   ]
  },
  {
   "cell_type": "code",
   "execution_count": 12,
   "id": "45840c21",
   "metadata": {},
   "outputs": [
    {
     "data": {
      "text/html": [
       "<div>\n",
       "<style scoped>\n",
       "    .dataframe tbody tr th:only-of-type {\n",
       "        vertical-align: middle;\n",
       "    }\n",
       "\n",
       "    .dataframe tbody tr th {\n",
       "        vertical-align: top;\n",
       "    }\n",
       "\n",
       "    .dataframe thead th {\n",
       "        text-align: right;\n",
       "    }\n",
       "</style>\n",
       "<table border=\"1\" class=\"dataframe\">\n",
       "  <thead>\n",
       "    <tr style=\"text-align: right;\">\n",
       "      <th></th>\n",
       "      <th>show_id</th>\n",
       "      <th>type</th>\n",
       "      <th>title</th>\n",
       "      <th>director</th>\n",
       "      <th>cast</th>\n",
       "      <th>country</th>\n",
       "      <th>date_added</th>\n",
       "      <th>rating</th>\n",
       "      <th>duration</th>\n",
       "      <th>listed_in</th>\n",
       "      <th>description</th>\n",
       "    </tr>\n",
       "    <tr>\n",
       "      <th>release_year</th>\n",
       "      <th></th>\n",
       "      <th></th>\n",
       "      <th></th>\n",
       "      <th></th>\n",
       "      <th></th>\n",
       "      <th></th>\n",
       "      <th></th>\n",
       "      <th></th>\n",
       "      <th></th>\n",
       "      <th></th>\n",
       "      <th></th>\n",
       "    </tr>\n",
       "  </thead>\n",
       "  <tbody>\n",
       "    <tr>\n",
       "      <th>2020</th>\n",
       "      <td>s1</td>\n",
       "      <td>Movie</td>\n",
       "      <td>Dick Johnson Is Dead</td>\n",
       "      <td>Kirsten Johnson</td>\n",
       "      <td>NaN</td>\n",
       "      <td>United States</td>\n",
       "      <td>September 25, 2021</td>\n",
       "      <td>PG-13</td>\n",
       "      <td>90 min</td>\n",
       "      <td>Documentaries</td>\n",
       "      <td>As her father nears the end of his life, filmm...</td>\n",
       "    </tr>\n",
       "    <tr>\n",
       "      <th>2021</th>\n",
       "      <td>s2</td>\n",
       "      <td>TV Show</td>\n",
       "      <td>Blood &amp; Water</td>\n",
       "      <td>NaN</td>\n",
       "      <td>Ama Qamata, Khosi Ngema, Gail Mabalane, Thaban...</td>\n",
       "      <td>South Africa</td>\n",
       "      <td>September 24, 2021</td>\n",
       "      <td>TV-MA</td>\n",
       "      <td>2 Seasons</td>\n",
       "      <td>International TV Shows, TV Dramas, TV Mysteries</td>\n",
       "      <td>After crossing paths at a party, a Cape Town t...</td>\n",
       "    </tr>\n",
       "    <tr>\n",
       "      <th>2021</th>\n",
       "      <td>s3</td>\n",
       "      <td>TV Show</td>\n",
       "      <td>Ganglands</td>\n",
       "      <td>Julien Leclercq</td>\n",
       "      <td>Sami Bouajila, Tracy Gotoas, Samuel Jouy, Nabi...</td>\n",
       "      <td>NaN</td>\n",
       "      <td>September 24, 2021</td>\n",
       "      <td>TV-MA</td>\n",
       "      <td>1 Season</td>\n",
       "      <td>Crime TV Shows, International TV Shows, TV Act...</td>\n",
       "      <td>To protect his family from a powerful drug lor...</td>\n",
       "    </tr>\n",
       "    <tr>\n",
       "      <th>2021</th>\n",
       "      <td>s4</td>\n",
       "      <td>TV Show</td>\n",
       "      <td>Jailbirds New Orleans</td>\n",
       "      <td>NaN</td>\n",
       "      <td>NaN</td>\n",
       "      <td>NaN</td>\n",
       "      <td>September 24, 2021</td>\n",
       "      <td>TV-MA</td>\n",
       "      <td>1 Season</td>\n",
       "      <td>Docuseries, Reality TV</td>\n",
       "      <td>Feuds, flirtations and toilet talk go down amo...</td>\n",
       "    </tr>\n",
       "    <tr>\n",
       "      <th>2021</th>\n",
       "      <td>s5</td>\n",
       "      <td>TV Show</td>\n",
       "      <td>Kota Factory</td>\n",
       "      <td>NaN</td>\n",
       "      <td>Mayur More, Jitendra Kumar, Ranjan Raj, Alam K...</td>\n",
       "      <td>India</td>\n",
       "      <td>September 24, 2021</td>\n",
       "      <td>TV-MA</td>\n",
       "      <td>2 Seasons</td>\n",
       "      <td>International TV Shows, Romantic TV Shows, TV ...</td>\n",
       "      <td>In a city of coaching centers known to train I...</td>\n",
       "    </tr>\n",
       "  </tbody>\n",
       "</table>\n",
       "</div>"
      ],
      "text/plain": [
       "             show_id     type                  title         director  \\\n",
       "release_year                                                            \n",
       "2020              s1    Movie   Dick Johnson Is Dead  Kirsten Johnson   \n",
       "2021              s2  TV Show          Blood & Water              NaN   \n",
       "2021              s3  TV Show              Ganglands  Julien Leclercq   \n",
       "2021              s4  TV Show  Jailbirds New Orleans              NaN   \n",
       "2021              s5  TV Show           Kota Factory              NaN   \n",
       "\n",
       "                                                           cast  \\\n",
       "release_year                                                      \n",
       "2020                                                        NaN   \n",
       "2021          Ama Qamata, Khosi Ngema, Gail Mabalane, Thaban...   \n",
       "2021          Sami Bouajila, Tracy Gotoas, Samuel Jouy, Nabi...   \n",
       "2021                                                        NaN   \n",
       "2021          Mayur More, Jitendra Kumar, Ranjan Raj, Alam K...   \n",
       "\n",
       "                    country          date_added rating   duration  \\\n",
       "release_year                                                        \n",
       "2020          United States  September 25, 2021  PG-13     90 min   \n",
       "2021           South Africa  September 24, 2021  TV-MA  2 Seasons   \n",
       "2021                    NaN  September 24, 2021  TV-MA   1 Season   \n",
       "2021                    NaN  September 24, 2021  TV-MA   1 Season   \n",
       "2021                  India  September 24, 2021  TV-MA  2 Seasons   \n",
       "\n",
       "                                                      listed_in  \\\n",
       "release_year                                                      \n",
       "2020                                              Documentaries   \n",
       "2021            International TV Shows, TV Dramas, TV Mysteries   \n",
       "2021          Crime TV Shows, International TV Shows, TV Act...   \n",
       "2021                                     Docuseries, Reality TV   \n",
       "2021          International TV Shows, Romantic TV Shows, TV ...   \n",
       "\n",
       "                                                    description  \n",
       "release_year                                                     \n",
       "2020          As her father nears the end of his life, filmm...  \n",
       "2021          After crossing paths at a party, a Cape Town t...  \n",
       "2021          To protect his family from a powerful drug lor...  \n",
       "2021          Feuds, flirtations and toilet talk go down amo...  \n",
       "2021          In a city of coaching centers known to train I...  "
      ]
     },
     "execution_count": 12,
     "metadata": {},
     "output_type": "execute_result"
    }
   ],
   "source": [
    "# Selecting the first 5 rows of the dataset\n",
    "de_head = de.head()\n",
    "\n",
    "# Setting 'release_year' as the index\n",
    "de_head.set_index('release_year' , inplace = True)\n",
    "de_head"
   ]
  },
  {
   "cell_type": "code",
   "execution_count": 25,
   "id": "46c650c3",
   "metadata": {},
   "outputs": [
    {
     "name": "stdout",
     "output_type": "stream",
     "text": [
      "Most Common Genres:\n",
      " [('International Movies', 2752), ('Dramas', 2427), ('Comedies', 1674), ('International TV Shows', 1351), ('Documentaries', 869), ('Action & Adventure', 859), ('TV Dramas', 763), ('Independent Movies', 756), ('Children & Family Movies', 641), ('Romantic Movies', 616)]\n"
     ]
    }
   ],
   "source": [
    "# Splitting and counting genres\n",
    "all_genres = de['listed_in'].dropna().str.split(', ').explode()\n",
    "genre_counts = Counter(all_genres)\n",
    "\n",
    "# Displaying the top 10 genres\n",
    "print(\"Most Common Genres:\\n\", genre_counts.most_common(10))"
   ]
  },
  {
   "cell_type": "code",
   "execution_count": 9,
   "id": "d227829e",
   "metadata": {},
   "outputs": [
    {
     "name": "stdout",
     "output_type": "stream",
     "text": [
      "Top 10 Countries with Most Content:\n",
      " country\n",
      "United States     2818\n",
      "India              972\n",
      "United Kingdom     419\n",
      "Japan              245\n",
      "South Korea        199\n",
      "Canada             181\n",
      "Spain              145\n",
      "France             124\n",
      "Mexico             110\n",
      "Egypt              106\n",
      "Name: count, dtype: int64\n"
     ]
    }
   ],
   "source": [
    "# Counting occurrences of each country\n",
    "country_counts = de['country'].value_counts().head(10)\n",
    "\n",
    "# Displaying the top 10 countries with most Netflix content\n",
    "print(\"Top 10 Countries with Most Content:\\n\", country_counts)"
   ]
  },
  {
   "cell_type": "code",
   "execution_count": 27,
   "id": "64fc9346",
   "metadata": {},
   "outputs": [
    {
     "data": {
      "image/png": "[encoded data removed]",
      "text/plain": [
       "<Figure size 800x300 with 1 Axes>"
      ]
     },
     "metadata": {},
     "output_type": "display_data"
    }
   ],
   "source": [
    "# Counting releases per year\n",
    "year_counts = de['release_year'].value_counts().sort_index()\n",
    "\n",
    "# Plotting the trend\n",
    "plt.figure(figsize=(8, 3))\n",
    "plt.plot(year_counts.index, year_counts.values, marker='o', linestyle='-')\n",
    "plt.xlabel(\"Release Year\")\n",
    "plt.ylabel(\"Number of Titles\")\n",
    "plt.title(\"Trend of Netflix Content Production Over the Years\")\n",
    "plt.grid(True)\n",
    "plt.show()"
   ]
  },
  {
   "cell_type": "code",
   "execution_count": 20,
   "id": "d928ffbf",
   "metadata": {},
   "outputs": [
    {
     "name": "stderr",
     "output_type": "stream",
     "text": [
      "C:\\Users\\jay\\AppData\\Local\\Temp\\ipykernel_3904\\582391092.py:6: FutureWarning: \n",
      "\n",
      "Passing `palette` without assigning `hue` is deprecated and will be removed in v0.14.0. Assign the `x` variable to `hue` and set `legend=False` for the same effect.\n",
      "\n",
      "  sns.barplot(x=type_counts.index, y=type_counts.values, palette=\"viridis\")\n"
     ]
    },
    {
     "data": {
      "image/png": "[encoded data removed]",
      "text/plain": [
       "<Figure size 600x600 with 1 Axes>"
      ]
     },
     "metadata": {},
     "output_type": "display_data"
    }
   ],
   "source": [
    "# Counting types (Movies vs TV Shows)\n",
    "type_counts = de['type'].value_counts()\n",
    "\n",
    "# Plotting\n",
    "plt.figure(figsize=(6, 6))\n",
    "sns.barplot(x=type_counts.index, y=type_counts.values, palette=\"viridis\")\n",
    "plt.xlabel(\"Type of Content\")\n",
    "plt.ylabel(\"Count\")\n",
    "plt.title(\"Movies vs TV Shows on Netflix\")\n",
    "plt.show()"
   ]
  },
  {
   "cell_type": "code",
   "execution_count": 21,
   "id": "cf54d268",
   "metadata": {},
   "outputs": [
    {
     "name": "stdout",
     "output_type": "stream",
     "text": [
      "Top 10 Directors with Most Content:\n",
      " director\n",
      "Rajiv Chilaka             19\n",
      "Raúl Campos, Jan Suter    18\n",
      "Suhas Kadav               16\n",
      "Marcus Raboy              16\n",
      "Jay Karas                 14\n",
      "Cathy Garcia-Molina       13\n",
      "Martin Scorsese           12\n",
      "Youssef Chahine           12\n",
      "Jay Chapman               12\n",
      "Steven Spielberg          11\n",
      "Name: count, dtype: int64\n"
     ]
    }
   ],
   "source": [
    "# Counting occurrences of each director\n",
    "top_directors = de['director'].dropna().value_counts().head(10)\n",
    "\n",
    "# Displaying the top 10 directors\n",
    "print(\"Top 10 Directors with Most Content:\\n\", top_directors)"
   ]
  },
  {
   "cell_type": "code",
   "execution_count": 28,
   "id": "0dd2fe59",
   "metadata": {},
   "outputs": [
    {
     "name": "stdout",
     "output_type": "stream",
     "text": [
      "                        title  description_word_count\n",
      "4948                    Billu                      48\n",
      "593                  Snow Day                      44\n",
      "6221      Balto 2: Wolf Quest                      44\n",
      "215   Shootout at Lokhandwala                      44\n",
      "5990                14 Blades                      42\n"
     ]
    }
   ],
   "source": [
    "# Creating a new column for description word count\n",
    "de['description_word_count'] = de['description'].apply(lambda x: len(str(x).split()))\n",
    "\n",
    "# Displaying the top 5 titles with longest descriptions\n",
    "print(de[['title', 'description_word_count']].sort_values(by='description_word_count', ascending=False).head())\n"
   ]
  },
  {
   "cell_type": "code",
   "execution_count": 23,
   "id": "802403ed",
   "metadata": {},
   "outputs": [
    {
     "name": "stdout",
     "output_type": "stream",
     "text": [
      "Most Common Actors on Netflix:\n",
      " [('Anupam Kher', 43), ('Shah Rukh Khan', 35), ('Julie Tejwani', 33), ('Naseeruddin Shah', 32), ('Takahiro Sakurai', 32), ('Rupa Bhimani', 31), ('Akshay Kumar', 30), ('Om Puri', 30), ('Yuki Kaji', 29), ('Amitabh Bachchan', 28)]\n"
     ]
    }
   ],
   "source": [
    "# Splitting and counting actors\n",
    "all_actors = de['cast'].dropna().str.split(', ').explode()\n",
    "actor_counts = Counter(all_actors)\n",
    "\n",
    "# Displaying the top 10 most common actors\n",
    "print(\"Most Common Actors on Netflix:\\n\", actor_counts.most_common(10))"
   ]
  },
  {
   "cell_type": "code",
   "execution_count": 24,
   "id": "93ae650b",
   "metadata": {},
   "outputs": [
    {
     "data": {
      "image/png": "[encoded data removed]",
      "text/plain": [
       "<Figure size 1000x500 with 1 Axes>"
      ]
     },
     "metadata": {},
     "output_type": "display_data"
    }
   ],
   "source": [
    "# Filtering only movies and extracting durations\n",
    "de_movies = de[de['type'] == 'Movie'].dropna(subset=['duration'])\n",
    "de_movies['duration'] = de_movies['duration'].str.replace(' min', '').astype(int)\n",
    "\n",
    "# Plotting the distribution of movie durations\n",
    "plt.figure(figsize=(10, 5))\n",
    "sns.histplot(de_movies['duration'], bins=30, kde=True)\n",
    "plt.xlabel(\"Movie Duration (minutes)\")\n",
    "plt.ylabel(\"Count\")\n",
    "plt.title(\"Distribution of Movie Durations on Netflix\")\n",
    "plt.show()"
   ]
  },
  {
   "cell_type": "code",
   "execution_count": null,
   "id": "d6f14930",
   "metadata": {},
   "outputs": [],
   "source": []
  }
 ],
 "metadata": {
  "kernelspec": {
   "display_name": "Python 3 (ipykernel)",
   "language": "python",
   "name": "python3"
  },
  "language_info": {
   "codemirror_mode": {
    "name": "ipython",
    "version": 3
   },
   "file_extension": ".py",
   "mimetype": "text/x-python",
   "name": "python",
   "nbconvert_exporter": "python",
   "pygments_lexer": "ipython3",
   "version": "3.11.4"
  }
 },
 "nbformat": 4,
 "nbformat_minor": 5
}
